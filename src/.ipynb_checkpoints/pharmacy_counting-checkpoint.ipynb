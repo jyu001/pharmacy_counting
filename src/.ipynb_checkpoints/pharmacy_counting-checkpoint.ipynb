{
 "cells": [
  {
   "cell_type": "code",
   "execution_count": 3,
   "metadata": {},
   "outputs": [],
   "source": [
    "import sys\n",
    "\n",
    "def pharmacy_counting():\n",
    "    dct = {}\n",
    "    with open(sys.argv[1], 'r') as infile:\n",
    "        next(infile)\n",
    "        for line in infile:\n",
    "            lst = line.split(',')\n",
    "            drug_prescriber, cost = lst[3]+'__'+lst[1]+'_'+lst[2], lst[4]\n",
    "            if drug_prescriber not in dct: \n",
    "                dct[drug_prescriber] = 0\n",
    "            dct[drug_prescriber] += cost\n",
    "    sorted_by_value = sorted(dct.items(), key=lambda kv: kv[1])\n",
    "#    print(sorted_by_value)\n",
    "    with open(sys.argv[2], 'w') as outfile:\n",
    "        outfile.write('\\n'.join(sorted_by_value))"
   ]
  }
 ],
 "metadata": {
  "kernelspec": {
   "display_name": "Python [default]",
   "language": "python",
   "name": "python3"
  },
  "language_info": {
   "codemirror_mode": {
    "name": "ipython",
    "version": 3
   },
   "file_extension": ".py",
   "mimetype": "text/x-python",
   "name": "python",
   "nbconvert_exporter": "python",
   "pygments_lexer": "ipython3",
   "version": "3.6.5"
  }
 },
 "nbformat": 4,
 "nbformat_minor": 2
}
